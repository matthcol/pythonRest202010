{
 "cells": [
  {
   "cell_type": "code",
   "execution_count": 86,
   "metadata": {},
   "outputs": [],
   "source": [
    "import pandas as pd\n",
    "import numpy as np\n",
    "import requests\n",
    "from datetime import datetime, date\n",
    "import matplotlib.pyplot as plt\n",
    "import matplotlib.ticker as ticker\n",
    "import matplotlib.dates as mdates\n"
   ]
  },
  {
   "cell_type": "code",
   "execution_count": 7,
   "metadata": {
    "collapsed": true
   },
   "outputs": [
    {
     "data": {
      "text/html": [
       "<div>\n",
       "<style scoped>\n",
       "    .dataframe tbody tr th:only-of-type {\n",
       "        vertical-align: middle;\n",
       "    }\n",
       "\n",
       "    .dataframe tbody tr th {\n",
       "        vertical-align: top;\n",
       "    }\n",
       "\n",
       "    .dataframe thead th {\n",
       "        text-align: right;\n",
       "    }\n",
       "</style>\n",
       "<table border=\"1\" class=\"dataframe\">\n",
       "  <thead>\n",
       "    <tr style=\"text-align: right;\">\n",
       "      <th></th>\n",
       "      <th>title</th>\n",
       "      <th>year</th>\n",
       "      <th>duration</th>\n",
       "    </tr>\n",
       "    <tr>\n",
       "      <th>id</th>\n",
       "      <th></th>\n",
       "      <th></th>\n",
       "      <th></th>\n",
       "    </tr>\n",
       "  </thead>\n",
       "  <tbody>\n",
       "    <tr>\n",
       "      <td>5257</td>\n",
       "      <td>Excuse Me</td>\n",
       "      <td>1915</td>\n",
       "      <td>50.0</td>\n",
       "    </tr>\n",
       "    <tr>\n",
       "      <td>6366</td>\n",
       "      <td>Anton the Terrible</td>\n",
       "      <td>1916</td>\n",
       "      <td>50.0</td>\n",
       "    </tr>\n",
       "    <tr>\n",
       "      <td>8351</td>\n",
       "      <td>The Mysterious Mrs. Musslewhite</td>\n",
       "      <td>1917</td>\n",
       "      <td>50.0</td>\n",
       "    </tr>\n",
       "    <tr>\n",
       "      <td>8384</td>\n",
       "      <td>On the Level</td>\n",
       "      <td>1917</td>\n",
       "      <td>50.0</td>\n",
       "    </tr>\n",
       "    <tr>\n",
       "      <td>8642</td>\n",
       "      <td>The Sunset Trail</td>\n",
       "      <td>1917</td>\n",
       "      <td>50.0</td>\n",
       "    </tr>\n",
       "    <tr>\n",
       "      <td>...</td>\n",
       "      <td>...</td>\n",
       "      <td>...</td>\n",
       "      <td>...</td>\n",
       "    </tr>\n",
       "    <tr>\n",
       "      <td>11885402</td>\n",
       "      <td>Dan Aykroyd and Tom Hanks: City of Crime</td>\n",
       "      <td>1987</td>\n",
       "      <td>NaN</td>\n",
       "    </tr>\n",
       "    <tr>\n",
       "      <td>11911992</td>\n",
       "      <td>Bleu de Chanel: The Film</td>\n",
       "      <td>2018</td>\n",
       "      <td>1.0</td>\n",
       "    </tr>\n",
       "    <tr>\n",
       "      <td>12771922</td>\n",
       "      <td>Neil Cicierega: Vivid Memories Turn to Fantasi...</td>\n",
       "      <td>2014</td>\n",
       "      <td>3.0</td>\n",
       "    </tr>\n",
       "    <tr>\n",
       "      <td>12771923</td>\n",
       "      <td>Mulan</td>\n",
       "      <td>1998</td>\n",
       "      <td>NaN</td>\n",
       "    </tr>\n",
       "    <tr>\n",
       "      <td>12771924</td>\n",
       "      <td>No Time To Die</td>\n",
       "      <td>2021</td>\n",
       "      <td>NaN</td>\n",
       "    </tr>\n",
       "  </tbody>\n",
       "</table>\n",
       "<p>1443 rows × 3 columns</p>\n",
       "</div>"
      ],
      "text/plain": [
       "                                                      title  year  duration\n",
       "id                                                                         \n",
       "5257                                              Excuse Me  1915      50.0\n",
       "6366                                     Anton the Terrible  1916      50.0\n",
       "8351                        The Mysterious Mrs. Musslewhite  1917      50.0\n",
       "8384                                           On the Level  1917      50.0\n",
       "8642                                       The Sunset Trail  1917      50.0\n",
       "...                                                     ...   ...       ...\n",
       "11885402           Dan Aykroyd and Tom Hanks: City of Crime  1987       NaN\n",
       "11911992                           Bleu de Chanel: The Film  2018       1.0\n",
       "12771922  Neil Cicierega: Vivid Memories Turn to Fantasi...  2014       3.0\n",
       "12771923                                              Mulan  1998       NaN\n",
       "12771924                                     No Time To Die  2021       NaN\n",
       "\n",
       "[1443 rows x 3 columns]"
      ]
     },
     "execution_count": 7,
     "metadata": {},
     "output_type": "execute_result"
    }
   ],
   "source": [
    "limit = 1500\n",
    "dfMovies = pd.read_json(f'http://localhost:8000/movies?limit={limit}')\n",
    "dfMovies.set_index('id', inplace=True)\n",
    "dfMovies"
   ]
  },
  {
   "cell_type": "code",
   "execution_count": 25,
   "metadata": {},
   "outputs": [
    {
     "data": {
      "text/plain": [
       "pandas.core.frame.DataFrame"
      ]
     },
     "execution_count": 25,
     "metadata": {},
     "output_type": "execute_result"
    }
   ],
   "source": [
    "type(dfMovies)"
   ]
  },
  {
   "cell_type": "code",
   "execution_count": 10,
   "metadata": {
    "collapsed": true
   },
   "outputs": [
    {
     "data": {
      "text/html": [
       "<div>\n",
       "<style scoped>\n",
       "    .dataframe tbody tr th:only-of-type {\n",
       "        vertical-align: middle;\n",
       "    }\n",
       "\n",
       "    .dataframe tbody tr th {\n",
       "        vertical-align: top;\n",
       "    }\n",
       "\n",
       "    .dataframe thead th {\n",
       "        text-align: right;\n",
       "    }\n",
       "</style>\n",
       "<table border=\"1\" class=\"dataframe\">\n",
       "  <thead>\n",
       "    <tr style=\"text-align: right;\">\n",
       "      <th></th>\n",
       "      <th>year</th>\n",
       "      <th>movie_count</th>\n",
       "    </tr>\n",
       "  </thead>\n",
       "  <tbody>\n",
       "    <tr>\n",
       "      <td>0</td>\n",
       "      <td>1915</td>\n",
       "      <td>1</td>\n",
       "    </tr>\n",
       "    <tr>\n",
       "      <td>1</td>\n",
       "      <td>1916</td>\n",
       "      <td>1</td>\n",
       "    </tr>\n",
       "    <tr>\n",
       "      <td>2</td>\n",
       "      <td>1917</td>\n",
       "      <td>7</td>\n",
       "    </tr>\n",
       "    <tr>\n",
       "      <td>3</td>\n",
       "      <td>1918</td>\n",
       "      <td>10</td>\n",
       "    </tr>\n",
       "    <tr>\n",
       "      <td>4</td>\n",
       "      <td>1919</td>\n",
       "      <td>10</td>\n",
       "    </tr>\n",
       "    <tr>\n",
       "      <td>...</td>\n",
       "      <td>...</td>\n",
       "      <td>...</td>\n",
       "    </tr>\n",
       "    <tr>\n",
       "      <td>102</td>\n",
       "      <td>2017</td>\n",
       "      <td>22</td>\n",
       "    </tr>\n",
       "    <tr>\n",
       "      <td>103</td>\n",
       "      <td>2018</td>\n",
       "      <td>20</td>\n",
       "    </tr>\n",
       "    <tr>\n",
       "      <td>104</td>\n",
       "      <td>2019</td>\n",
       "      <td>28</td>\n",
       "    </tr>\n",
       "    <tr>\n",
       "      <td>105</td>\n",
       "      <td>2020</td>\n",
       "      <td>6</td>\n",
       "    </tr>\n",
       "    <tr>\n",
       "      <td>106</td>\n",
       "      <td>2021</td>\n",
       "      <td>1</td>\n",
       "    </tr>\n",
       "  </tbody>\n",
       "</table>\n",
       "<p>107 rows × 2 columns</p>\n",
       "</div>"
      ],
      "text/plain": [
       "     year  movie_count\n",
       "0    1915            1\n",
       "1    1916            1\n",
       "2    1917            7\n",
       "3    1918           10\n",
       "4    1919           10\n",
       "..    ...          ...\n",
       "102  2017           22\n",
       "103  2018           20\n",
       "104  2019           28\n",
       "105  2020            6\n",
       "106  2021            1\n",
       "\n",
       "[107 rows x 2 columns]"
      ]
     },
     "execution_count": 10,
     "metadata": {},
     "output_type": "execute_result"
    }
   ],
   "source": [
    "dfStatsMovieByYear = pd.read_json('http://localhost:8000/movies/count_by_year')\n",
    "dfStatsMovieByYear.columns=['year', 'movie_count']\n",
    "#dfStatsMovieByYear.set_index('year', inplace=True)\n",
    "dfStatsMovieByYear"
   ]
  },
  {
   "cell_type": "code",
   "execution_count": 12,
   "metadata": {
    "collapsed": true
   },
   "outputs": [
    {
     "data": {
      "text/html": [
       "<div>\n",
       "<style scoped>\n",
       "    .dataframe tbody tr th:only-of-type {\n",
       "        vertical-align: middle;\n",
       "    }\n",
       "\n",
       "    .dataframe tbody tr th {\n",
       "        vertical-align: top;\n",
       "    }\n",
       "\n",
       "    .dataframe thead th {\n",
       "        text-align: right;\n",
       "    }\n",
       "</style>\n",
       "<table border=\"1\" class=\"dataframe\">\n",
       "  <thead>\n",
       "    <tr style=\"text-align: right;\">\n",
       "      <th></th>\n",
       "      <th>0</th>\n",
       "      <th>1</th>\n",
       "    </tr>\n",
       "  </thead>\n",
       "  <tbody>\n",
       "    <tr>\n",
       "      <td>0</td>\n",
       "      <td>{'id': 33, 'name': 'Alfred Hitchcock', 'birthd...</td>\n",
       "      <td>60</td>\n",
       "    </tr>\n",
       "    <tr>\n",
       "      <td>1</td>\n",
       "      <td>{'id': 217, 'name': 'Martin Scorsese', 'birthd...</td>\n",
       "      <td>48</td>\n",
       "    </tr>\n",
       "    <tr>\n",
       "      <td>2</td>\n",
       "      <td>{'id': 229, 'name': 'Steven Spielberg', 'birth...</td>\n",
       "      <td>41</td>\n",
       "    </tr>\n",
       "    <tr>\n",
       "      <td>3</td>\n",
       "      <td>{'id': 142, 'name': 'Clint Eastwood', 'birthda...</td>\n",
       "      <td>39</td>\n",
       "    </tr>\n",
       "    <tr>\n",
       "      <td>4</td>\n",
       "      <td>{'id': 361, 'name': 'Brian De Palma', 'birthda...</td>\n",
       "      <td>38</td>\n",
       "    </tr>\n",
       "    <tr>\n",
       "      <td>5</td>\n",
       "      <td>{'id': 631, 'name': 'Ridley Scott', 'birthdate...</td>\n",
       "      <td>35</td>\n",
       "    </tr>\n",
       "    <tr>\n",
       "      <td>6</td>\n",
       "      <td>{'id': 247, 'name': 'John Woo', 'birthdate': '...</td>\n",
       "      <td>34</td>\n",
       "    </tr>\n",
       "    <tr>\n",
       "      <td>7</td>\n",
       "      <td>{'id': 2588606, 'name': 'Steve McQueen', 'birt...</td>\n",
       "      <td>31</td>\n",
       "    </tr>\n",
       "    <tr>\n",
       "      <td>8</td>\n",
       "      <td>{'id': 600, 'name': 'Sam Raimi', 'birthdate': ...</td>\n",
       "      <td>31</td>\n",
       "    </tr>\n",
       "    <tr>\n",
       "      <td>9</td>\n",
       "      <td>{'id': 406, 'name': 'John Ford', 'birthdate': ...</td>\n",
       "      <td>20</td>\n",
       "    </tr>\n",
       "    <tr>\n",
       "      <td>10</td>\n",
       "      <td>{'id': 1392, 'name': 'Peter Jackson', 'birthda...</td>\n",
       "      <td>19</td>\n",
       "    </tr>\n",
       "    <tr>\n",
       "      <td>11</td>\n",
       "      <td>{'id': 965, 'name': 'Danny Boyle', 'birthdate'...</td>\n",
       "      <td>18</td>\n",
       "    </tr>\n",
       "    <tr>\n",
       "      <td>12</td>\n",
       "      <td>{'id': 233, 'name': 'Quentin Tarantino', 'birt...</td>\n",
       "      <td>14</td>\n",
       "    </tr>\n",
       "    <tr>\n",
       "      <td>13</td>\n",
       "      <td>{'id': 116, 'name': 'James Cameron', 'birthdat...</td>\n",
       "      <td>14</td>\n",
       "    </tr>\n",
       "    <tr>\n",
       "      <td>14</td>\n",
       "      <td>{'id': 250445, 'name': 'Walter Edwards', 'birt...</td>\n",
       "      <td>14</td>\n",
       "    </tr>\n",
       "    <tr>\n",
       "      <td>15</td>\n",
       "      <td>{'id': 102908, 'name': 'Robert N. Bradbury', '...</td>\n",
       "      <td>13</td>\n",
       "    </tr>\n",
       "    <tr>\n",
       "      <td>16</td>\n",
       "      <td>{'id': 634240, 'name': 'Christopher Nolan', 'b...</td>\n",
       "      <td>13</td>\n",
       "    </tr>\n",
       "    <tr>\n",
       "      <td>17</td>\n",
       "      <td>{'id': 94435, 'name': 'Bong Joon Ho', 'birthda...</td>\n",
       "      <td>12</td>\n",
       "    </tr>\n",
       "    <tr>\n",
       "      <td>18</td>\n",
       "      <td>{'id': 1053, 'name': 'Ethan Coen', 'birthdate'...</td>\n",
       "      <td>12</td>\n",
       "    </tr>\n",
       "    <tr>\n",
       "      <td>19</td>\n",
       "      <td>{'id': 1054, 'name': 'Joel Coen', 'birthdate':...</td>\n",
       "      <td>11</td>\n",
       "    </tr>\n",
       "  </tbody>\n",
       "</table>\n",
       "</div>"
      ],
      "text/plain": [
       "                                                    0   1\n",
       "0   {'id': 33, 'name': 'Alfred Hitchcock', 'birthd...  60\n",
       "1   {'id': 217, 'name': 'Martin Scorsese', 'birthd...  48\n",
       "2   {'id': 229, 'name': 'Steven Spielberg', 'birth...  41\n",
       "3   {'id': 142, 'name': 'Clint Eastwood', 'birthda...  39\n",
       "4   {'id': 361, 'name': 'Brian De Palma', 'birthda...  38\n",
       "5   {'id': 631, 'name': 'Ridley Scott', 'birthdate...  35\n",
       "6   {'id': 247, 'name': 'John Woo', 'birthdate': '...  34\n",
       "7   {'id': 2588606, 'name': 'Steve McQueen', 'birt...  31\n",
       "8   {'id': 600, 'name': 'Sam Raimi', 'birthdate': ...  31\n",
       "9   {'id': 406, 'name': 'John Ford', 'birthdate': ...  20\n",
       "10  {'id': 1392, 'name': 'Peter Jackson', 'birthda...  19\n",
       "11  {'id': 965, 'name': 'Danny Boyle', 'birthdate'...  18\n",
       "12  {'id': 233, 'name': 'Quentin Tarantino', 'birt...  14\n",
       "13  {'id': 116, 'name': 'James Cameron', 'birthdat...  14\n",
       "14  {'id': 250445, 'name': 'Walter Edwards', 'birt...  14\n",
       "15  {'id': 102908, 'name': 'Robert N. Bradbury', '...  13\n",
       "16  {'id': 634240, 'name': 'Christopher Nolan', 'b...  13\n",
       "17  {'id': 94435, 'name': 'Bong Joon Ho', 'birthda...  12\n",
       "18  {'id': 1053, 'name': 'Ethan Coen', 'birthdate'...  12\n",
       "19  {'id': 1054, 'name': 'Joel Coen', 'birthdate':...  11"
      ]
     },
     "execution_count": 12,
     "metadata": {},
     "output_type": "execute_result"
    }
   ],
   "source": [
    "# le résultat n'est pas fameux\n",
    "dfStatsMovieByDirector = pd.read_json('http://localhost:8000/stars/stats_movie_by_director')\n",
    "dfStatsMovieByDirector"
   ]
  },
  {
   "cell_type": "code",
   "execution_count": 22,
   "metadata": {},
   "outputs": [
    {
     "data": {
      "text/plain": [
       "<Response [200]>"
      ]
     },
     "execution_count": 22,
     "metadata": {},
     "output_type": "execute_result"
    }
   ],
   "source": [
    "response = requests.get('http://localhost:8000/stars/stats_movie_by_director')\n",
    "response"
   ]
  },
  {
   "cell_type": "code",
   "execution_count": 23,
   "metadata": {},
   "outputs": [
    {
     "name": "stdout",
     "output_type": "stream",
     "text": [
      "Response OK\n"
     ]
    }
   ],
   "source": [
    "if response.status_code == 200:\n",
    "    print('Response OK')\n",
    "else:\n",
    "    print('Error', response.status_code, response.json(), sep=', ')"
   ]
  },
  {
   "cell_type": "code",
   "execution_count": 24,
   "metadata": {
    "collapsed": true
   },
   "outputs": [
    {
     "data": {
      "text/plain": [
       "[[{'id': 33, 'name': 'Alfred Hitchcock', 'birthdate': '1899-08-13'}, 60],\n",
       " [{'id': 217, 'name': 'Martin Scorsese', 'birthdate': '1942-11-17'}, 48],\n",
       " [{'id': 229, 'name': 'Steven Spielberg', 'birthdate': '1946-12-18'}, 41],\n",
       " [{'id': 142, 'name': 'Clint Eastwood', 'birthdate': '1930-05-31'}, 39],\n",
       " [{'id': 361, 'name': 'Brian De Palma', 'birthdate': '1940-09-11'}, 38],\n",
       " [{'id': 631, 'name': 'Ridley Scott', 'birthdate': '1937-11-30'}, 35],\n",
       " [{'id': 247, 'name': 'John Woo', 'birthdate': '1946-09-22'}, 34],\n",
       " [{'id': 2588606, 'name': 'Steve McQueen', 'birthdate': '1969-10-09'}, 31],\n",
       " [{'id': 600, 'name': 'Sam Raimi', 'birthdate': '1959-10-23'}, 31],\n",
       " [{'id': 406, 'name': 'John Ford', 'birthdate': None}, 20],\n",
       " [{'id': 1392, 'name': 'Peter Jackson', 'birthdate': '1961-10-31'}, 19],\n",
       " [{'id': 965, 'name': 'Danny Boyle', 'birthdate': '1956-10-20'}, 18],\n",
       " [{'id': 233, 'name': 'Quentin Tarantino', 'birthdate': '1963-03-27'}, 14],\n",
       " [{'id': 116, 'name': 'James Cameron', 'birthdate': '1954-08-16'}, 14],\n",
       " [{'id': 250445, 'name': 'Walter Edwards', 'birthdate': None}, 14],\n",
       " [{'id': 102908, 'name': 'Robert N. Bradbury', 'birthdate': None}, 13],\n",
       " [{'id': 634240, 'name': 'Christopher Nolan', 'birthdate': '1970-07-30'}, 13],\n",
       " [{'id': 94435, 'name': 'Bong Joon Ho', 'birthdate': '1969-09-14'}, 12],\n",
       " [{'id': 1053, 'name': 'Ethan Coen', 'birthdate': '1957-09-21'}, 12],\n",
       " [{'id': 1054, 'name': 'Joel Coen', 'birthdate': '1954-11-29'}, 11]]"
      ]
     },
     "execution_count": 24,
     "metadata": {},
     "output_type": "execute_result"
    }
   ],
   "source": [
    "data_json = response.json()\n",
    "data_json"
   ]
  },
  {
   "cell_type": "code",
   "execution_count": 27,
   "metadata": {
    "collapsed": true
   },
   "outputs": [
    {
     "data": {
      "text/plain": [
       "[(33, 'Alfred Hitchcock', '1899-08-13', 60),\n",
       " (217, 'Martin Scorsese', '1942-11-17', 48),\n",
       " (229, 'Steven Spielberg', '1946-12-18', 41),\n",
       " (142, 'Clint Eastwood', '1930-05-31', 39),\n",
       " (361, 'Brian De Palma', '1940-09-11', 38),\n",
       " (631, 'Ridley Scott', '1937-11-30', 35),\n",
       " (247, 'John Woo', '1946-09-22', 34),\n",
       " (2588606, 'Steve McQueen', '1969-10-09', 31),\n",
       " (600, 'Sam Raimi', '1959-10-23', 31),\n",
       " (406, 'John Ford', None, 20),\n",
       " (1392, 'Peter Jackson', '1961-10-31', 19),\n",
       " (965, 'Danny Boyle', '1956-10-20', 18),\n",
       " (233, 'Quentin Tarantino', '1963-03-27', 14),\n",
       " (116, 'James Cameron', '1954-08-16', 14),\n",
       " (250445, 'Walter Edwards', None, 14),\n",
       " (102908, 'Robert N. Bradbury', None, 13),\n",
       " (634240, 'Christopher Nolan', '1970-07-30', 13),\n",
       " (94435, 'Bong Joon Ho', '1969-09-14', 12),\n",
       " (1053, 'Ethan Coen', '1957-09-21', 12),\n",
       " (1054, 'Joel Coen', '1954-11-29', 11)]"
      ]
     },
     "execution_count": 27,
     "metadata": {},
     "output_type": "execute_result"
    }
   ],
   "source": [
    "# applatir en liste de tuples\n",
    "data_flatten = [ (director_dict['id'], director_dict['name'], director_dict['birthdate'], movie_count )  \n",
    "         for director_dict, movie_count in data_json ]\n",
    "data_flatten"
   ]
  },
  {
   "cell_type": "code",
   "execution_count": 33,
   "metadata": {},
   "outputs": [
    {
     "data": {
      "text/plain": [
       "[{'id': 33,\n",
       "  'name': 'Alfred Hitchcock',\n",
       "  'birthdate': '1899-08-13',\n",
       "  'movie_count': 60},\n",
       " {'id': 217,\n",
       "  'name': 'Martin Scorsese',\n",
       "  'birthdate': '1942-11-17',\n",
       "  'movie_count': 48},\n",
       " {'id': 229,\n",
       "  'name': 'Steven Spielberg',\n",
       "  'birthdate': '1946-12-18',\n",
       "  'movie_count': 41},\n",
       " {'id': 142,\n",
       "  'name': 'Clint Eastwood',\n",
       "  'birthdate': '1930-05-31',\n",
       "  'movie_count': 39},\n",
       " {'id': 361,\n",
       "  'name': 'Brian De Palma',\n",
       "  'birthdate': '1940-09-11',\n",
       "  'movie_count': 38},\n",
       " {'id': 631,\n",
       "  'name': 'Ridley Scott',\n",
       "  'birthdate': '1937-11-30',\n",
       "  'movie_count': 35},\n",
       " {'id': 247, 'name': 'John Woo', 'birthdate': '1946-09-22', 'movie_count': 34},\n",
       " {'id': 2588606,\n",
       "  'name': 'Steve McQueen',\n",
       "  'birthdate': '1969-10-09',\n",
       "  'movie_count': 31},\n",
       " {'id': 600,\n",
       "  'name': 'Sam Raimi',\n",
       "  'birthdate': '1959-10-23',\n",
       "  'movie_count': 31},\n",
       " {'id': 406, 'name': 'John Ford', 'birthdate': None, 'movie_count': 20},\n",
       " {'id': 1392,\n",
       "  'name': 'Peter Jackson',\n",
       "  'birthdate': '1961-10-31',\n",
       "  'movie_count': 19},\n",
       " {'id': 965,\n",
       "  'name': 'Danny Boyle',\n",
       "  'birthdate': '1956-10-20',\n",
       "  'movie_count': 18},\n",
       " {'id': 233,\n",
       "  'name': 'Quentin Tarantino',\n",
       "  'birthdate': '1963-03-27',\n",
       "  'movie_count': 14},\n",
       " {'id': 116,\n",
       "  'name': 'James Cameron',\n",
       "  'birthdate': '1954-08-16',\n",
       "  'movie_count': 14},\n",
       " {'id': 250445,\n",
       "  'name': 'Walter Edwards',\n",
       "  'birthdate': None,\n",
       "  'movie_count': 14},\n",
       " {'id': 102908,\n",
       "  'name': 'Robert N. Bradbury',\n",
       "  'birthdate': None,\n",
       "  'movie_count': 13},\n",
       " {'id': 634240,\n",
       "  'name': 'Christopher Nolan',\n",
       "  'birthdate': '1970-07-30',\n",
       "  'movie_count': 13},\n",
       " {'id': 94435,\n",
       "  'name': 'Bong Joon Ho',\n",
       "  'birthdate': '1969-09-14',\n",
       "  'movie_count': 12},\n",
       " {'id': 1053,\n",
       "  'name': 'Ethan Coen',\n",
       "  'birthdate': '1957-09-21',\n",
       "  'movie_count': 12},\n",
       " {'id': 1054,\n",
       "  'name': 'Joel Coen',\n",
       "  'birthdate': '1954-11-29',\n",
       "  'movie_count': 11}]"
      ]
     },
     "execution_count": 33,
     "metadata": {},
     "output_type": "execute_result"
    }
   ],
   "source": [
    "# applatir en list de dicts\n",
    "data_flatten = [ {**director_dict, 'movie_count': movie_count }  \n",
    "         for director_dict, movie_count in data_json ]\n",
    "data_flatten"
   ]
  },
  {
   "cell_type": "code",
   "execution_count": 34,
   "metadata": {
    "collapsed": true
   },
   "outputs": [
    {
     "data": {
      "text/html": [
       "<div>\n",
       "<style scoped>\n",
       "    .dataframe tbody tr th:only-of-type {\n",
       "        vertical-align: middle;\n",
       "    }\n",
       "\n",
       "    .dataframe tbody tr th {\n",
       "        vertical-align: top;\n",
       "    }\n",
       "\n",
       "    .dataframe thead th {\n",
       "        text-align: right;\n",
       "    }\n",
       "</style>\n",
       "<table border=\"1\" class=\"dataframe\">\n",
       "  <thead>\n",
       "    <tr style=\"text-align: right;\">\n",
       "      <th></th>\n",
       "      <th>name</th>\n",
       "      <th>birthdate</th>\n",
       "      <th>movie_count</th>\n",
       "    </tr>\n",
       "    <tr>\n",
       "      <th>id</th>\n",
       "      <th></th>\n",
       "      <th></th>\n",
       "      <th></th>\n",
       "    </tr>\n",
       "  </thead>\n",
       "  <tbody>\n",
       "    <tr>\n",
       "      <td>33</td>\n",
       "      <td>Alfred Hitchcock</td>\n",
       "      <td>1899-08-13</td>\n",
       "      <td>60</td>\n",
       "    </tr>\n",
       "    <tr>\n",
       "      <td>217</td>\n",
       "      <td>Martin Scorsese</td>\n",
       "      <td>1942-11-17</td>\n",
       "      <td>48</td>\n",
       "    </tr>\n",
       "    <tr>\n",
       "      <td>229</td>\n",
       "      <td>Steven Spielberg</td>\n",
       "      <td>1946-12-18</td>\n",
       "      <td>41</td>\n",
       "    </tr>\n",
       "    <tr>\n",
       "      <td>142</td>\n",
       "      <td>Clint Eastwood</td>\n",
       "      <td>1930-05-31</td>\n",
       "      <td>39</td>\n",
       "    </tr>\n",
       "    <tr>\n",
       "      <td>361</td>\n",
       "      <td>Brian De Palma</td>\n",
       "      <td>1940-09-11</td>\n",
       "      <td>38</td>\n",
       "    </tr>\n",
       "    <tr>\n",
       "      <td>631</td>\n",
       "      <td>Ridley Scott</td>\n",
       "      <td>1937-11-30</td>\n",
       "      <td>35</td>\n",
       "    </tr>\n",
       "    <tr>\n",
       "      <td>247</td>\n",
       "      <td>John Woo</td>\n",
       "      <td>1946-09-22</td>\n",
       "      <td>34</td>\n",
       "    </tr>\n",
       "    <tr>\n",
       "      <td>2588606</td>\n",
       "      <td>Steve McQueen</td>\n",
       "      <td>1969-10-09</td>\n",
       "      <td>31</td>\n",
       "    </tr>\n",
       "    <tr>\n",
       "      <td>600</td>\n",
       "      <td>Sam Raimi</td>\n",
       "      <td>1959-10-23</td>\n",
       "      <td>31</td>\n",
       "    </tr>\n",
       "    <tr>\n",
       "      <td>406</td>\n",
       "      <td>John Ford</td>\n",
       "      <td>None</td>\n",
       "      <td>20</td>\n",
       "    </tr>\n",
       "    <tr>\n",
       "      <td>1392</td>\n",
       "      <td>Peter Jackson</td>\n",
       "      <td>1961-10-31</td>\n",
       "      <td>19</td>\n",
       "    </tr>\n",
       "    <tr>\n",
       "      <td>965</td>\n",
       "      <td>Danny Boyle</td>\n",
       "      <td>1956-10-20</td>\n",
       "      <td>18</td>\n",
       "    </tr>\n",
       "    <tr>\n",
       "      <td>233</td>\n",
       "      <td>Quentin Tarantino</td>\n",
       "      <td>1963-03-27</td>\n",
       "      <td>14</td>\n",
       "    </tr>\n",
       "    <tr>\n",
       "      <td>116</td>\n",
       "      <td>James Cameron</td>\n",
       "      <td>1954-08-16</td>\n",
       "      <td>14</td>\n",
       "    </tr>\n",
       "    <tr>\n",
       "      <td>250445</td>\n",
       "      <td>Walter Edwards</td>\n",
       "      <td>None</td>\n",
       "      <td>14</td>\n",
       "    </tr>\n",
       "    <tr>\n",
       "      <td>102908</td>\n",
       "      <td>Robert N. Bradbury</td>\n",
       "      <td>None</td>\n",
       "      <td>13</td>\n",
       "    </tr>\n",
       "    <tr>\n",
       "      <td>634240</td>\n",
       "      <td>Christopher Nolan</td>\n",
       "      <td>1970-07-30</td>\n",
       "      <td>13</td>\n",
       "    </tr>\n",
       "    <tr>\n",
       "      <td>94435</td>\n",
       "      <td>Bong Joon Ho</td>\n",
       "      <td>1969-09-14</td>\n",
       "      <td>12</td>\n",
       "    </tr>\n",
       "    <tr>\n",
       "      <td>1053</td>\n",
       "      <td>Ethan Coen</td>\n",
       "      <td>1957-09-21</td>\n",
       "      <td>12</td>\n",
       "    </tr>\n",
       "    <tr>\n",
       "      <td>1054</td>\n",
       "      <td>Joel Coen</td>\n",
       "      <td>1954-11-29</td>\n",
       "      <td>11</td>\n",
       "    </tr>\n",
       "  </tbody>\n",
       "</table>\n",
       "</div>"
      ],
      "text/plain": [
       "                       name   birthdate  movie_count\n",
       "id                                                  \n",
       "33         Alfred Hitchcock  1899-08-13           60\n",
       "217         Martin Scorsese  1942-11-17           48\n",
       "229        Steven Spielberg  1946-12-18           41\n",
       "142          Clint Eastwood  1930-05-31           39\n",
       "361          Brian De Palma  1940-09-11           38\n",
       "631            Ridley Scott  1937-11-30           35\n",
       "247                John Woo  1946-09-22           34\n",
       "2588606       Steve McQueen  1969-10-09           31\n",
       "600               Sam Raimi  1959-10-23           31\n",
       "406               John Ford        None           20\n",
       "1392          Peter Jackson  1961-10-31           19\n",
       "965             Danny Boyle  1956-10-20           18\n",
       "233       Quentin Tarantino  1963-03-27           14\n",
       "116           James Cameron  1954-08-16           14\n",
       "250445       Walter Edwards        None           14\n",
       "102908   Robert N. Bradbury        None           13\n",
       "634240    Christopher Nolan  1970-07-30           13\n",
       "94435          Bong Joon Ho  1969-09-14           12\n",
       "1053             Ethan Coen  1957-09-21           12\n",
       "1054              Joel Coen  1954-11-29           11"
      ]
     },
     "execution_count": 34,
     "metadata": {},
     "output_type": "execute_result"
    }
   ],
   "source": [
    "dfStatsMovieByDirector = pd.DataFrame(data_flatten)\n",
    "dfStatsMovieByDirector.set_index('id', inplace=True)\n",
    "dfStatsMovieByDirector"
   ]
  },
  {
   "cell_type": "code",
   "execution_count": 37,
   "metadata": {},
   "outputs": [
    {
     "data": {
      "text/plain": [
       "'1899-08-13'"
      ]
     },
     "execution_count": 37,
     "metadata": {},
     "output_type": "execute_result"
    }
   ],
   "source": [
    "dfStatsMovieByDirector.loc[33].birthdate"
   ]
  },
  {
   "cell_type": "code",
   "execution_count": 41,
   "metadata": {},
   "outputs": [
    {
     "data": {
      "text/plain": [
       "datetime.date(1899, 8, 13)"
      ]
     },
     "execution_count": 41,
     "metadata": {},
     "output_type": "execute_result"
    }
   ],
   "source": [
    "datetime.strptime('1899-08-13', '%Y-%m-%d').date()"
   ]
  },
  {
   "cell_type": "code",
   "execution_count": 42,
   "metadata": {},
   "outputs": [
    {
     "data": {
      "text/plain": [
       "datetime.date(1899, 8, 13)"
      ]
     },
     "execution_count": 42,
     "metadata": {},
     "output_type": "execute_result"
    }
   ],
   "source": [
    "date.fromisoformat('1899-08-13')"
   ]
  },
  {
   "cell_type": "code",
   "execution_count": 45,
   "metadata": {},
   "outputs": [
    {
     "data": {
      "text/html": [
       "<div>\n",
       "<style scoped>\n",
       "    .dataframe tbody tr th:only-of-type {\n",
       "        vertical-align: middle;\n",
       "    }\n",
       "\n",
       "    .dataframe tbody tr th {\n",
       "        vertical-align: top;\n",
       "    }\n",
       "\n",
       "    .dataframe thead th {\n",
       "        text-align: right;\n",
       "    }\n",
       "</style>\n",
       "<table border=\"1\" class=\"dataframe\">\n",
       "  <thead>\n",
       "    <tr style=\"text-align: right;\">\n",
       "      <th></th>\n",
       "      <th>name</th>\n",
       "      <th>birthdate</th>\n",
       "      <th>movie_count</th>\n",
       "    </tr>\n",
       "    <tr>\n",
       "      <th>id</th>\n",
       "      <th></th>\n",
       "      <th></th>\n",
       "      <th></th>\n",
       "    </tr>\n",
       "  </thead>\n",
       "  <tbody>\n",
       "    <tr>\n",
       "      <td>406</td>\n",
       "      <td>John Ford</td>\n",
       "      <td>None</td>\n",
       "      <td>20</td>\n",
       "    </tr>\n",
       "    <tr>\n",
       "      <td>250445</td>\n",
       "      <td>Walter Edwards</td>\n",
       "      <td>None</td>\n",
       "      <td>14</td>\n",
       "    </tr>\n",
       "    <tr>\n",
       "      <td>102908</td>\n",
       "      <td>Robert N. Bradbury</td>\n",
       "      <td>None</td>\n",
       "      <td>13</td>\n",
       "    </tr>\n",
       "  </tbody>\n",
       "</table>\n",
       "</div>"
      ],
      "text/plain": [
       "                      name birthdate  movie_count\n",
       "id                                               \n",
       "406              John Ford      None           20\n",
       "250445      Walter Edwards      None           14\n",
       "102908  Robert N. Bradbury      None           13"
      ]
     },
     "execution_count": 45,
     "metadata": {},
     "output_type": "execute_result"
    }
   ],
   "source": [
    "dfStatsMovieByDirector[dfStatsMovieByDirector.birthdate.isnull()]"
   ]
  },
  {
   "cell_type": "code",
   "execution_count": 47,
   "metadata": {
    "collapsed": true
   },
   "outputs": [
    {
     "data": {
      "text/plain": [
       "id\n",
       "33         1899-08-13\n",
       "217        1942-11-17\n",
       "229        1946-12-18\n",
       "142        1930-05-31\n",
       "361        1940-09-11\n",
       "631        1937-11-30\n",
       "247        1946-09-22\n",
       "2588606    1969-10-09\n",
       "600        1959-10-23\n",
       "1392       1961-10-31\n",
       "965        1956-10-20\n",
       "233        1963-03-27\n",
       "116        1954-08-16\n",
       "634240     1970-07-30\n",
       "94435      1969-09-14\n",
       "1053       1957-09-21\n",
       "1054       1954-11-29\n",
       "Name: birthdate, dtype: object"
      ]
     },
     "execution_count": 47,
     "metadata": {},
     "output_type": "execute_result"
    }
   ],
   "source": [
    "dfStatsMovieByDirector[~dfStatsMovieByDirector.birthdate.isnull()].birthdate.apply(date.fromisoformat)"
   ]
  },
  {
   "cell_type": "code",
   "execution_count": 49,
   "metadata": {},
   "outputs": [
    {
     "data": {
      "text/html": [
       "<div>\n",
       "<style scoped>\n",
       "    .dataframe tbody tr th:only-of-type {\n",
       "        vertical-align: middle;\n",
       "    }\n",
       "\n",
       "    .dataframe tbody tr th {\n",
       "        vertical-align: top;\n",
       "    }\n",
       "\n",
       "    .dataframe thead th {\n",
       "        text-align: right;\n",
       "    }\n",
       "</style>\n",
       "<table border=\"1\" class=\"dataframe\">\n",
       "  <thead>\n",
       "    <tr style=\"text-align: right;\">\n",
       "      <th></th>\n",
       "      <th>name</th>\n",
       "      <th>birthdate</th>\n",
       "      <th>movie_count</th>\n",
       "    </tr>\n",
       "    <tr>\n",
       "      <th>id</th>\n",
       "      <th></th>\n",
       "      <th></th>\n",
       "      <th></th>\n",
       "    </tr>\n",
       "  </thead>\n",
       "  <tbody>\n",
       "    <tr>\n",
       "      <td>33</td>\n",
       "      <td>Alfred Hitchcock</td>\n",
       "      <td>1899-08-13</td>\n",
       "      <td>60</td>\n",
       "    </tr>\n",
       "    <tr>\n",
       "      <td>217</td>\n",
       "      <td>Martin Scorsese</td>\n",
       "      <td>1942-11-17</td>\n",
       "      <td>48</td>\n",
       "    </tr>\n",
       "    <tr>\n",
       "      <td>229</td>\n",
       "      <td>Steven Spielberg</td>\n",
       "      <td>1946-12-18</td>\n",
       "      <td>41</td>\n",
       "    </tr>\n",
       "    <tr>\n",
       "      <td>142</td>\n",
       "      <td>Clint Eastwood</td>\n",
       "      <td>1930-05-31</td>\n",
       "      <td>39</td>\n",
       "    </tr>\n",
       "    <tr>\n",
       "      <td>361</td>\n",
       "      <td>Brian De Palma</td>\n",
       "      <td>1940-09-11</td>\n",
       "      <td>38</td>\n",
       "    </tr>\n",
       "    <tr>\n",
       "      <td>631</td>\n",
       "      <td>Ridley Scott</td>\n",
       "      <td>1937-11-30</td>\n",
       "      <td>35</td>\n",
       "    </tr>\n",
       "    <tr>\n",
       "      <td>247</td>\n",
       "      <td>John Woo</td>\n",
       "      <td>1946-09-22</td>\n",
       "      <td>34</td>\n",
       "    </tr>\n",
       "    <tr>\n",
       "      <td>2588606</td>\n",
       "      <td>Steve McQueen</td>\n",
       "      <td>1969-10-09</td>\n",
       "      <td>31</td>\n",
       "    </tr>\n",
       "    <tr>\n",
       "      <td>600</td>\n",
       "      <td>Sam Raimi</td>\n",
       "      <td>1959-10-23</td>\n",
       "      <td>31</td>\n",
       "    </tr>\n",
       "    <tr>\n",
       "      <td>406</td>\n",
       "      <td>John Ford</td>\n",
       "      <td>None</td>\n",
       "      <td>20</td>\n",
       "    </tr>\n",
       "    <tr>\n",
       "      <td>1392</td>\n",
       "      <td>Peter Jackson</td>\n",
       "      <td>1961-10-31</td>\n",
       "      <td>19</td>\n",
       "    </tr>\n",
       "    <tr>\n",
       "      <td>965</td>\n",
       "      <td>Danny Boyle</td>\n",
       "      <td>1956-10-20</td>\n",
       "      <td>18</td>\n",
       "    </tr>\n",
       "    <tr>\n",
       "      <td>233</td>\n",
       "      <td>Quentin Tarantino</td>\n",
       "      <td>1963-03-27</td>\n",
       "      <td>14</td>\n",
       "    </tr>\n",
       "    <tr>\n",
       "      <td>116</td>\n",
       "      <td>James Cameron</td>\n",
       "      <td>1954-08-16</td>\n",
       "      <td>14</td>\n",
       "    </tr>\n",
       "    <tr>\n",
       "      <td>250445</td>\n",
       "      <td>Walter Edwards</td>\n",
       "      <td>None</td>\n",
       "      <td>14</td>\n",
       "    </tr>\n",
       "    <tr>\n",
       "      <td>102908</td>\n",
       "      <td>Robert N. Bradbury</td>\n",
       "      <td>None</td>\n",
       "      <td>13</td>\n",
       "    </tr>\n",
       "    <tr>\n",
       "      <td>634240</td>\n",
       "      <td>Christopher Nolan</td>\n",
       "      <td>1970-07-30</td>\n",
       "      <td>13</td>\n",
       "    </tr>\n",
       "    <tr>\n",
       "      <td>94435</td>\n",
       "      <td>Bong Joon Ho</td>\n",
       "      <td>1969-09-14</td>\n",
       "      <td>12</td>\n",
       "    </tr>\n",
       "    <tr>\n",
       "      <td>1053</td>\n",
       "      <td>Ethan Coen</td>\n",
       "      <td>1957-09-21</td>\n",
       "      <td>12</td>\n",
       "    </tr>\n",
       "    <tr>\n",
       "      <td>1054</td>\n",
       "      <td>Joel Coen</td>\n",
       "      <td>1954-11-29</td>\n",
       "      <td>11</td>\n",
       "    </tr>\n",
       "  </tbody>\n",
       "</table>\n",
       "</div>"
      ],
      "text/plain": [
       "                       name   birthdate  movie_count\n",
       "id                                                  \n",
       "33         Alfred Hitchcock  1899-08-13           60\n",
       "217         Martin Scorsese  1942-11-17           48\n",
       "229        Steven Spielberg  1946-12-18           41\n",
       "142          Clint Eastwood  1930-05-31           39\n",
       "361          Brian De Palma  1940-09-11           38\n",
       "631            Ridley Scott  1937-11-30           35\n",
       "247                John Woo  1946-09-22           34\n",
       "2588606       Steve McQueen  1969-10-09           31\n",
       "600               Sam Raimi  1959-10-23           31\n",
       "406               John Ford        None           20\n",
       "1392          Peter Jackson  1961-10-31           19\n",
       "965             Danny Boyle  1956-10-20           18\n",
       "233       Quentin Tarantino  1963-03-27           14\n",
       "116           James Cameron  1954-08-16           14\n",
       "250445       Walter Edwards        None           14\n",
       "102908   Robert N. Bradbury        None           13\n",
       "634240    Christopher Nolan  1970-07-30           13\n",
       "94435          Bong Joon Ho  1969-09-14           12\n",
       "1053             Ethan Coen  1957-09-21           12\n",
       "1054              Joel Coen  1954-11-29           11"
      ]
     },
     "execution_count": 49,
     "metadata": {},
     "output_type": "execute_result"
    }
   ],
   "source": [
    "# def fromisoformat_or_none(dt):\n",
    "#    return date.fromisoformat(bd) if bd is not None else None\n",
    "\n",
    "dfStatsMovieByDirector.birthdate = dfStatsMovieByDirector.birthdate.apply(\n",
    "    lambda bd: date.fromisoformat(bd) if bd is not None else None)\n",
    "dfStatsMovieByDirector"
   ]
  },
  {
   "cell_type": "code",
   "execution_count": 50,
   "metadata": {},
   "outputs": [
    {
     "data": {
      "text/plain": [
       "datetime.date(1899, 8, 13)"
      ]
     },
     "execution_count": 50,
     "metadata": {},
     "output_type": "execute_result"
    }
   ],
   "source": [
    "dfStatsMovieByDirector.loc[33].birthdate"
   ]
  },
  {
   "cell_type": "code",
   "execution_count": 54,
   "metadata": {
    "collapsed": true
   },
   "outputs": [
    {
     "data": {
      "text/html": [
       "<div>\n",
       "<style scoped>\n",
       "    .dataframe tbody tr th:only-of-type {\n",
       "        vertical-align: middle;\n",
       "    }\n",
       "\n",
       "    .dataframe tbody tr th {\n",
       "        vertical-align: top;\n",
       "    }\n",
       "\n",
       "    .dataframe thead th {\n",
       "        text-align: right;\n",
       "    }\n",
       "</style>\n",
       "<table border=\"1\" class=\"dataframe\">\n",
       "  <thead>\n",
       "    <tr style=\"text-align: right;\">\n",
       "      <th></th>\n",
       "      <th>name</th>\n",
       "      <th>birthdate</th>\n",
       "    </tr>\n",
       "    <tr>\n",
       "      <th>id</th>\n",
       "      <th></th>\n",
       "      <th></th>\n",
       "    </tr>\n",
       "  </thead>\n",
       "  <tbody>\n",
       "    <tr>\n",
       "      <td>1</td>\n",
       "      <td>Fred Astaire</td>\n",
       "      <td>1899-01-01</td>\n",
       "    </tr>\n",
       "    <tr>\n",
       "      <td>2</td>\n",
       "      <td>Lauren Bacall</td>\n",
       "      <td>1924-01-01</td>\n",
       "    </tr>\n",
       "    <tr>\n",
       "      <td>3</td>\n",
       "      <td>Brigitte Bardot</td>\n",
       "      <td>1934-01-01</td>\n",
       "    </tr>\n",
       "    <tr>\n",
       "      <td>4</td>\n",
       "      <td>John Belushi</td>\n",
       "      <td>NaT</td>\n",
       "    </tr>\n",
       "    <tr>\n",
       "      <td>6</td>\n",
       "      <td>Ingrid Bergman</td>\n",
       "      <td>1915-01-01</td>\n",
       "    </tr>\n",
       "    <tr>\n",
       "      <td>...</td>\n",
       "      <td>...</td>\n",
       "      <td>...</td>\n",
       "    </tr>\n",
       "    <tr>\n",
       "      <td>1480</td>\n",
       "      <td>Shelley Long</td>\n",
       "      <td>NaT</td>\n",
       "    </tr>\n",
       "    <tr>\n",
       "      <td>1484</td>\n",
       "      <td>Jon Lovitz</td>\n",
       "      <td>1957-01-01</td>\n",
       "    </tr>\n",
       "    <tr>\n",
       "      <td>1485</td>\n",
       "      <td>Myrna Loy</td>\n",
       "      <td>1905-01-01</td>\n",
       "    </tr>\n",
       "    <tr>\n",
       "      <td>1486</td>\n",
       "      <td>Sidney Lumet</td>\n",
       "      <td>NaT</td>\n",
       "    </tr>\n",
       "    <tr>\n",
       "      <td>1489</td>\n",
       "      <td>Paul Lynde</td>\n",
       "      <td>1926-01-01</td>\n",
       "    </tr>\n",
       "  </tbody>\n",
       "</table>\n",
       "<p>1000 rows × 2 columns</p>\n",
       "</div>"
      ],
      "text/plain": [
       "                 name  birthdate\n",
       "id                              \n",
       "1        Fred Astaire 1899-01-01\n",
       "2       Lauren Bacall 1924-01-01\n",
       "3     Brigitte Bardot 1934-01-01\n",
       "4        John Belushi        NaT\n",
       "6      Ingrid Bergman 1915-01-01\n",
       "...               ...        ...\n",
       "1480     Shelley Long        NaT\n",
       "1484       Jon Lovitz 1957-01-01\n",
       "1485        Myrna Loy 1905-01-01\n",
       "1486     Sidney Lumet        NaT\n",
       "1489       Paul Lynde 1926-01-01\n",
       "\n",
       "[1000 rows x 2 columns]"
      ]
     },
     "execution_count": 54,
     "metadata": {},
     "output_type": "execute_result"
    }
   ],
   "source": [
    "# other idea: instead of apply read column birthdate as datetime64 (NaT)\n",
    "limit = 1000\n",
    "dfStars = pd.read_json(f'http://localhost:8000/stars?limit={limit}', convert_dates=['birthdate'])\n",
    "dfStars.set_index('id', inplace=True)\n",
    "dfStars"
   ]
  },
  {
   "cell_type": "markdown",
   "metadata": {},
   "source": [
    "## Graphiques avec matplotlib"
   ]
  },
  {
   "cell_type": "code",
   "execution_count": 78,
   "metadata": {},
   "outputs": [
    {
     "data": {
      "text/plain": [
       "<matplotlib.axes._subplots.AxesSubplot at 0x21e42932988>"
      ]
     },
     "execution_count": 78,
     "metadata": {},
     "output_type": "execute_result"
    },
    {
     "data": {
      "image/png": "[encoded data removed]",
      "text/plain": [
       "<Figure size 432x288 with 1 Axes>"
      ]
     },
     "metadata": {
      "needs_background": "light"
     },
     "output_type": "display_data"
    }
   ],
   "source": [
    "statsToPlot = dfStatsMovieByDirector[dfStatsMovieByDirector.movie_count > 30][['name','movie_count']] \\\n",
    "    .set_index('name')\n",
    "statsToPlot.plot(kind='bar')"
   ]
  },
  {
   "cell_type": "code",
   "execution_count": 67,
   "metadata": {},
   "outputs": [
    {
     "data": {
      "text/plain": [
       "[<matplotlib.lines.Line2D at 0x21e4037d248>]"
      ]
     },
     "execution_count": 67,
     "metadata": {},
     "output_type": "execute_result"
    },
    {
     "data": {
      "image/png": "[encoded data removed]",
      "text/plain": [
       "<Figure size 432x288 with 1 Axes>"
      ]
     },
     "metadata": {
      "needs_background": "light"
     },
     "output_type": "display_data"
    }
   ],
   "source": [
    "# 1 methode par type de graphe : plot, bar, piechart, ...\n",
    "movie_count_ndarray = dfStatsMovieByDirector.movie_count.values\n",
    "plt.plot(movie_count_ndarray)\n"
   ]
  },
  {
   "cell_type": "code",
   "execution_count": 70,
   "metadata": {},
   "outputs": [
    {
     "data": {
      "text/plain": [
       "[<matplotlib.lines.Line2D at 0x21e40d87ac8>]"
      ]
     },
     "execution_count": 70,
     "metadata": {},
     "output_type": "execute_result"
    },
    {
     "data": {
      "image/png": "[encoded data removed]",
      "text/plain": [
       "<Figure size 432x288 with 1 Axes>"
      ]
     },
     "metadata": {
      "needs_background": "light"
     },
     "output_type": "display_data"
    }
   ],
   "source": [
    "# fig : l'ensemble du dessin\n",
    "# ax : 1 tracé\n",
    "fig, ax = plt.subplots()\n",
    "ax.plot(movie_count_ndarray)"
   ]
  },
  {
   "cell_type": "code",
   "execution_count": 101,
   "metadata": {},
   "outputs": [
    {
     "data": {
      "text/plain": [
       "Text(0.5, 1.0, 'diag bar')"
      ]
     },
     "execution_count": 101,
     "metadata": {},
     "output_type": "execute_result"
    },
    {
     "data": {
      "image/png": "[encoded data removed]",
      "text/plain": [
       "<Figure size 720x360 with 2 Axes>"
      ]
     },
     "metadata": {
      "needs_background": "light"
     },
     "output_type": "display_data"
    }
   ],
   "source": [
    "# fig : l'ensemble du dessin\n",
    "# ax1, ax2 : 2 tracés\n",
    "fig, (ax1, ax2) = plt.subplots(1,2, figsize=(10,5))\n",
    "# NB: fig, ((ax1, ax2),(ax3,ax4)) = plt.subplots(2,2)\n",
    "\n",
    "# tracé 1 sur ax1\n",
    "ax1.plot(movie_count_ndarray)\n",
    "ax1.set_xlabel('x')\n",
    "ax1.set_ylabel('movie count')\n",
    "ax1.set_title('diag plot')\n",
    "# tracé 2 sur ax2\n",
    "statsToPlot.plot(kind='bar', ax=ax2)\n",
    "ax2.set_title('diag bar')\n"
   ]
  },
  {
   "cell_type": "code",
   "execution_count": 93,
   "metadata": {},
   "outputs": [
    {
     "data": {
      "image/png": "[encoded data removed]",
      "text/plain": [
       "<Figure size 432x288 with 1 Axes>"
      ]
     },
     "metadata": {
      "needs_background": "light"
     },
     "output_type": "display_data"
    }
   ],
   "source": [
    "x = np.arange(1000)\n",
    "y = x**2+1\n",
    "fig, ax = plt.subplots()\n",
    "ax.plot(x,y)\n",
    "ax.set_xlim(0, 800)\n",
    "# graduation majeure sur l'axe des x (x axis)\n",
    "ax.xaxis.set_major_locator(ticker.MultipleLocator(200))\n",
    "# graduation mineure sur l'axe des x (x axis)\n",
    "ax.xaxis.set_minor_locator(ticker.MultipleLocator(50))"
   ]
  },
  {
   "cell_type": "code",
   "execution_count": 99,
   "metadata": {},
   "outputs": [
    {
     "data": {
      "image/png": "[encoded data removed]",
      "text/plain": [
       "<Figure size 432x288 with 1 Axes>"
      ]
     },
     "metadata": {
      "needs_background": "light"
     },
     "output_type": "display_data"
    }
   ],
   "source": [
    "x = np.linspace(0,2*np.pi, 1000)\n",
    "y = np.sin(x)\n",
    "fig, ax = plt.subplots()\n",
    "ax.plot(x,y)\n",
    "# graduation majeure sur l'axe des y (y axis)\n",
    "ax.yaxis.set_major_locator(ticker.MultipleLocator(1/3))\n",
    "# formattage des labels sur la graduation\n",
    "# https://matplotlib.org/3.1.1/gallery/ticks_and_spines/tick-formatters.html\n",
    "ax.yaxis.set_major_formatter(ticker.FuncFormatter(lambda y,_: f'{y:.2f} s'))\n",
    "# graduation mineure sur l'axe des y (y axis)\n",
    "#ax.xaxis.set_minor_locator(ticker.MultipleLocator(50))"
   ]
  },
  {
   "cell_type": "code",
   "execution_count": 94,
   "metadata": {},
   "outputs": [],
   "source": [
    "# formattage et graduation de datetime, ...\n",
    "mdates.YearLocator()\n",
    "mdates.MonthLocator()\n",
    "mdates.DayLocator()\n",
    "mdates.DateFormatter('%Y-%m')"
   ]
  }
 ],
 "metadata": {
  "kernelspec": {
   "display_name": "Python 3",
   "language": "python",
   "name": "python3"
  },
  "language_info": {
   "codemirror_mode": {
    "name": "ipython",
    "version": 3
   },
   "file_extension": ".py",
   "mimetype": "text/x-python",
   "name": "python",
   "nbconvert_exporter": "python",
   "pygments_lexer": "ipython3",
   "version": "3.7.4"
  }
 },
 "nbformat": 4,
 "nbformat_minor": 2
}
